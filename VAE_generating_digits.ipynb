{
  "nbformat": 4,
  "nbformat_minor": 0,
  "metadata": {
    "colab": {
      "provenance": []
    },
    "kernelspec": {
      "name": "python3",
      "display_name": "Python 3"
    },
    "language_info": {
      "name": "python"
    },
    "widgets": {
      "application/vnd.jupyter.widget-state+json": {
        "9890e0f82e774120a6d6eebdd7587aee": {
          "model_module": "@jupyter-widgets/controls",
          "model_name": "HBoxModel",
          "model_module_version": "1.5.0",
          "state": {
            "_dom_classes": [],
            "_model_module": "@jupyter-widgets/controls",
            "_model_module_version": "1.5.0",
            "_model_name": "HBoxModel",
            "_view_count": null,
            "_view_module": "@jupyter-widgets/controls",
            "_view_module_version": "1.5.0",
            "_view_name": "HBoxView",
            "box_style": "",
            "children": [
              "IPY_MODEL_7612ce7057264939b8d27841649ef1c0",
              "IPY_MODEL_8377de3269f14b3fa2da6b91ef68b7b7",
              "IPY_MODEL_c0f2b6a2301f43128e7c83787b454c87"
            ],
            "layout": "IPY_MODEL_3428bf1e2b8e4b64b7ba6b01a64bdd66"
          }
        },
        "7612ce7057264939b8d27841649ef1c0": {
          "model_module": "@jupyter-widgets/controls",
          "model_name": "HTMLModel",
          "model_module_version": "1.5.0",
          "state": {
            "_dom_classes": [],
            "_model_module": "@jupyter-widgets/controls",
            "_model_module_version": "1.5.0",
            "_model_name": "HTMLModel",
            "_view_count": null,
            "_view_module": "@jupyter-widgets/controls",
            "_view_module_version": "1.5.0",
            "_view_name": "HTMLView",
            "description": "",
            "description_tooltip": null,
            "layout": "IPY_MODEL_eee5206832314373807f0a713a4ffe2a",
            "placeholder": "​",
            "style": "IPY_MODEL_32da6d037ee041cea70ff6300bc4d943",
            "value": "100%"
          }
        },
        "8377de3269f14b3fa2da6b91ef68b7b7": {
          "model_module": "@jupyter-widgets/controls",
          "model_name": "FloatProgressModel",
          "model_module_version": "1.5.0",
          "state": {
            "_dom_classes": [],
            "_model_module": "@jupyter-widgets/controls",
            "_model_module_version": "1.5.0",
            "_model_name": "FloatProgressModel",
            "_view_count": null,
            "_view_module": "@jupyter-widgets/controls",
            "_view_module_version": "1.5.0",
            "_view_name": "ProgressView",
            "bar_style": "success",
            "description": "",
            "description_tooltip": null,
            "layout": "IPY_MODEL_69121468f6024ad79fe1a2bca68cd545",
            "max": 2,
            "min": 0,
            "orientation": "horizontal",
            "style": "IPY_MODEL_bb94efc1422c4cce95571c76ce608d50",
            "value": 2
          }
        },
        "c0f2b6a2301f43128e7c83787b454c87": {
          "model_module": "@jupyter-widgets/controls",
          "model_name": "HTMLModel",
          "model_module_version": "1.5.0",
          "state": {
            "_dom_classes": [],
            "_model_module": "@jupyter-widgets/controls",
            "_model_module_version": "1.5.0",
            "_model_name": "HTMLModel",
            "_view_count": null,
            "_view_module": "@jupyter-widgets/controls",
            "_view_module_version": "1.5.0",
            "_view_name": "HTMLView",
            "description": "",
            "description_tooltip": null,
            "layout": "IPY_MODEL_8e5cfbc574c64130816adc03de43ce0d",
            "placeholder": "​",
            "style": "IPY_MODEL_97d42532b9434c43a2b9c1dddd841a30",
            "value": " 2/2 [06:10&lt;00:00, 185.63s/it]"
          }
        },
        "3428bf1e2b8e4b64b7ba6b01a64bdd66": {
          "model_module": "@jupyter-widgets/base",
          "model_name": "LayoutModel",
          "model_module_version": "1.2.0",
          "state": {
            "_model_module": "@jupyter-widgets/base",
            "_model_module_version": "1.2.0",
            "_model_name": "LayoutModel",
            "_view_count": null,
            "_view_module": "@jupyter-widgets/base",
            "_view_module_version": "1.2.0",
            "_view_name": "LayoutView",
            "align_content": null,
            "align_items": null,
            "align_self": null,
            "border": null,
            "bottom": null,
            "display": null,
            "flex": null,
            "flex_flow": null,
            "grid_area": null,
            "grid_auto_columns": null,
            "grid_auto_flow": null,
            "grid_auto_rows": null,
            "grid_column": null,
            "grid_gap": null,
            "grid_row": null,
            "grid_template_areas": null,
            "grid_template_columns": null,
            "grid_template_rows": null,
            "height": null,
            "justify_content": null,
            "justify_items": null,
            "left": null,
            "margin": null,
            "max_height": null,
            "max_width": null,
            "min_height": null,
            "min_width": null,
            "object_fit": null,
            "object_position": null,
            "order": null,
            "overflow": null,
            "overflow_x": null,
            "overflow_y": null,
            "padding": null,
            "right": null,
            "top": null,
            "visibility": null,
            "width": null
          }
        },
        "eee5206832314373807f0a713a4ffe2a": {
          "model_module": "@jupyter-widgets/base",
          "model_name": "LayoutModel",
          "model_module_version": "1.2.0",
          "state": {
            "_model_module": "@jupyter-widgets/base",
            "_model_module_version": "1.2.0",
            "_model_name": "LayoutModel",
            "_view_count": null,
            "_view_module": "@jupyter-widgets/base",
            "_view_module_version": "1.2.0",
            "_view_name": "LayoutView",
            "align_content": null,
            "align_items": null,
            "align_self": null,
            "border": null,
            "bottom": null,
            "display": null,
            "flex": null,
            "flex_flow": null,
            "grid_area": null,
            "grid_auto_columns": null,
            "grid_auto_flow": null,
            "grid_auto_rows": null,
            "grid_column": null,
            "grid_gap": null,
            "grid_row": null,
            "grid_template_areas": null,
            "grid_template_columns": null,
            "grid_template_rows": null,
            "height": null,
            "justify_content": null,
            "justify_items": null,
            "left": null,
            "margin": null,
            "max_height": null,
            "max_width": null,
            "min_height": null,
            "min_width": null,
            "object_fit": null,
            "object_position": null,
            "order": null,
            "overflow": null,
            "overflow_x": null,
            "overflow_y": null,
            "padding": null,
            "right": null,
            "top": null,
            "visibility": null,
            "width": null
          }
        },
        "32da6d037ee041cea70ff6300bc4d943": {
          "model_module": "@jupyter-widgets/controls",
          "model_name": "DescriptionStyleModel",
          "model_module_version": "1.5.0",
          "state": {
            "_model_module": "@jupyter-widgets/controls",
            "_model_module_version": "1.5.0",
            "_model_name": "DescriptionStyleModel",
            "_view_count": null,
            "_view_module": "@jupyter-widgets/base",
            "_view_module_version": "1.2.0",
            "_view_name": "StyleView",
            "description_width": ""
          }
        },
        "69121468f6024ad79fe1a2bca68cd545": {
          "model_module": "@jupyter-widgets/base",
          "model_name": "LayoutModel",
          "model_module_version": "1.2.0",
          "state": {
            "_model_module": "@jupyter-widgets/base",
            "_model_module_version": "1.2.0",
            "_model_name": "LayoutModel",
            "_view_count": null,
            "_view_module": "@jupyter-widgets/base",
            "_view_module_version": "1.2.0",
            "_view_name": "LayoutView",
            "align_content": null,
            "align_items": null,
            "align_self": null,
            "border": null,
            "bottom": null,
            "display": null,
            "flex": null,
            "flex_flow": null,
            "grid_area": null,
            "grid_auto_columns": null,
            "grid_auto_flow": null,
            "grid_auto_rows": null,
            "grid_column": null,
            "grid_gap": null,
            "grid_row": null,
            "grid_template_areas": null,
            "grid_template_columns": null,
            "grid_template_rows": null,
            "height": null,
            "justify_content": null,
            "justify_items": null,
            "left": null,
            "margin": null,
            "max_height": null,
            "max_width": null,
            "min_height": null,
            "min_width": null,
            "object_fit": null,
            "object_position": null,
            "order": null,
            "overflow": null,
            "overflow_x": null,
            "overflow_y": null,
            "padding": null,
            "right": null,
            "top": null,
            "visibility": null,
            "width": null
          }
        },
        "bb94efc1422c4cce95571c76ce608d50": {
          "model_module": "@jupyter-widgets/controls",
          "model_name": "ProgressStyleModel",
          "model_module_version": "1.5.0",
          "state": {
            "_model_module": "@jupyter-widgets/controls",
            "_model_module_version": "1.5.0",
            "_model_name": "ProgressStyleModel",
            "_view_count": null,
            "_view_module": "@jupyter-widgets/base",
            "_view_module_version": "1.2.0",
            "_view_name": "StyleView",
            "bar_color": null,
            "description_width": ""
          }
        },
        "8e5cfbc574c64130816adc03de43ce0d": {
          "model_module": "@jupyter-widgets/base",
          "model_name": "LayoutModel",
          "model_module_version": "1.2.0",
          "state": {
            "_model_module": "@jupyter-widgets/base",
            "_model_module_version": "1.2.0",
            "_model_name": "LayoutModel",
            "_view_count": null,
            "_view_module": "@jupyter-widgets/base",
            "_view_module_version": "1.2.0",
            "_view_name": "LayoutView",
            "align_content": null,
            "align_items": null,
            "align_self": null,
            "border": null,
            "bottom": null,
            "display": null,
            "flex": null,
            "flex_flow": null,
            "grid_area": null,
            "grid_auto_columns": null,
            "grid_auto_flow": null,
            "grid_auto_rows": null,
            "grid_column": null,
            "grid_gap": null,
            "grid_row": null,
            "grid_template_areas": null,
            "grid_template_columns": null,
            "grid_template_rows": null,
            "height": null,
            "justify_content": null,
            "justify_items": null,
            "left": null,
            "margin": null,
            "max_height": null,
            "max_width": null,
            "min_height": null,
            "min_width": null,
            "object_fit": null,
            "object_position": null,
            "order": null,
            "overflow": null,
            "overflow_x": null,
            "overflow_y": null,
            "padding": null,
            "right": null,
            "top": null,
            "visibility": null,
            "width": null
          }
        },
        "97d42532b9434c43a2b9c1dddd841a30": {
          "model_module": "@jupyter-widgets/controls",
          "model_name": "DescriptionStyleModel",
          "model_module_version": "1.5.0",
          "state": {
            "_model_module": "@jupyter-widgets/controls",
            "_model_module_version": "1.5.0",
            "_model_name": "DescriptionStyleModel",
            "_view_count": null,
            "_view_module": "@jupyter-widgets/base",
            "_view_module_version": "1.2.0",
            "_view_name": "StyleView",
            "description_width": ""
          }
        }
      }
    }
  },
  "cells": [
    {
      "cell_type": "code",
      "execution_count": null,
      "metadata": {
        "id": "6fqo9bcCJd8V"
      },
      "outputs": [],
      "source": [
        "# Problem: Generating Handwritten Digits"
      ]
    },
    {
      "cell_type": "markdown",
      "source": [
        "Imagine you want to create a system that can generate realistic handwritten digits, similar to what you see in numbers written by humans. You want the system to learn the patterns and variations present in different handwritten digits and then be able to generate new digit images that look like handwritten numbers."
      ],
      "metadata": {
        "id": "O0biZ7iyPE40"
      }
    },
    {
      "cell_type": "code",
      "source": [
        "import torch\n",
        "from torchvision import transforms as T\n",
        "from torchvision import datasets\n",
        "import torchvision.models as models\n",
        "from torch import nn, optim\n",
        "\n",
        "device = 'cuda' if torch.cuda.is_available() else 'cpu'"
      ],
      "metadata": {
        "id": "RUo2ZmoSPjk5"
      },
      "execution_count": 1,
      "outputs": []
    },
    {
      "cell_type": "code",
      "source": [
        "# 1. Download \n",
        "import torchvision\n",
        "\n",
        "classes = tuple(str(i) for i in range(10))\n",
        "\n",
        "def get_dataloaders(batch_size=4):\n",
        "\n",
        "  # Load dataset \n",
        "  transform = T.Compose([T.ToTensor(), \n",
        "                         T.Normalize((0.1307,), (0.3081,))])\n",
        "\n",
        "  trainset = torchvision.datasets.MNIST(root='./data', train=True, download=True, transform=transform)\n",
        "  trainloader = torch.utils.data.DataLoader(trainset, batch_size=4, shuffle=True, num_workers=2)\n",
        "\n",
        "  testset = torchvision.datasets.MNIST(root='./data', train=False, download=True, transform=transform)\n",
        "  testloader = torch.utils.data.DataLoader(testset, batch_size=4, shuffle=False, num_workers=2)\n",
        "  return trainloader, testloader\n",
        "\n",
        "trainloader, testloader = get_dataloaders(batch_size=4)\n"
      ],
      "metadata": {
        "id": "gfWJKu9zPFkM"
      },
      "execution_count": 2,
      "outputs": []
    },
    {
      "cell_type": "code",
      "source": [
        "28*28"
      ],
      "metadata": {
        "colab": {
          "base_uri": "https://localhost:8080/"
        },
        "id": "-dByYGSKcqEe",
        "outputId": "3ccd5ad5-4522-4cd5-c4cf-5156fedd5bcb"
      },
      "execution_count": 6,
      "outputs": [
        {
          "output_type": "execute_result",
          "data": {
            "text/plain": [
              "784"
            ]
          },
          "metadata": {},
          "execution_count": 6
        }
      ]
    },
    {
      "cell_type": "code",
      "source": [
        "class LinearVAE(nn.Module):\n",
        "    def __init__(self, input_size=784, hidden_size=256, latent_size=64):\n",
        "        super(LinearVAE, self).__init__()\n",
        "\n",
        "        # Encoder layers\n",
        "        self.encoder = nn.Sequential(\n",
        "            nn.Linear(input_size, hidden_size),\n",
        "            nn.ReLU(),\n",
        "        )\n",
        "        self.fc_mu = nn.Linear(hidden_size, latent_size)  # Mean of latent space\n",
        "        self.fc_logvar = nn.Linear(hidden_size, latent_size)  # Log variance of latent space\n",
        "\n",
        "        # Decoder layers\n",
        "        self.decoder = nn.Sequential(\n",
        "            nn.Linear(latent_size, hidden_size),\n",
        "            nn.ReLU(),\n",
        "            nn.Linear(hidden_size, input_size),\n",
        "            nn.Sigmoid(),\n",
        "        )\n",
        "\n",
        "    def encode(self, x):\n",
        "        hidden = self.encoder(x)\n",
        "        mu = self.fc_mu(hidden)\n",
        "        logvar = self.fc_logvar(hidden)\n",
        "        return mu, logvar\n",
        "\n",
        "    def reparameterize(self, mu, logvar):\n",
        "        std = torch.exp(0.5 * logvar)\n",
        "        eps = torch.randn_like(std)\n",
        "        z = mu + eps * std\n",
        "        return z\n",
        "\n",
        "    def decode(self, z):\n",
        "        output = self.decoder(z)\n",
        "        return output\n",
        "\n",
        "    def forward(self, x):\n",
        "        mu, logvar = self.encode(x)\n",
        "        z = self.reparameterize(mu, logvar)\n",
        "        output = self.decode(z)\n",
        "        return output, mu, logvar"
      ],
      "metadata": {
        "id": "G4sWqnd6WBLO"
      },
      "execution_count": 3,
      "outputs": []
    },
    {
      "cell_type": "code",
      "source": [
        "# Define loss funstions \n",
        "def KL_divergence(mu, logsigma):\n",
        "    loss = -0.5 * torch.sum(1 + logsigma - mu.pow(2) - logsigma.exp())\n",
        "    return loss\n",
        "\n",
        "def log_likelihood(x, reconstruction):\n",
        "    loss = nn.BCELoss(reduction='sum')\n",
        "    return loss(reconstruction, x)\n",
        "\n",
        "def loss_vae(x, mu, logsigma, reconstruction):\n",
        "    return KL_divergence(mu, logsigma) + log_likelihood(x, reconstruction)"
      ],
      "metadata": {
        "id": "IIOB1BCUiq-Z"
      },
      "execution_count": 4,
      "outputs": []
    },
    {
      "cell_type": "code",
      "source": [
        "device = 'cuda:0' if torch.cuda.is_available() else 'cpu'\n",
        "\n",
        "criterion = loss_vae\n",
        "\n",
        "autoencoder = LinearVAE().to(device)\n",
        "\n",
        "optimizer = torch.optim.Adam(autoencoder.parameters())"
      ],
      "metadata": {
        "id": "l2ZVu7kdlIzz"
      },
      "execution_count": 6,
      "outputs": []
    },
    {
      "cell_type": "code",
      "source": [
        "# 3. Train loop\n",
        "from tqdm import tqdm_notebook\n",
        "import numpy as np\n",
        "\n",
        "def fit(epochs, net, loss_fn, optimizer, train_dl, val_dl):\n",
        "\n",
        "  train_losses = []\n",
        "  val_losses = []\n",
        "\n",
        "  flatten = nn.Flatten()\n",
        "\n",
        "  for epoch in tqdm_notebook(range(epochs)):\n",
        "    autoencoder.train()\n",
        "    train_losses_per_epoch = []\n",
        "    for batch in train_dl:\n",
        "        x_batch, y_batch = batch\n",
        "\n",
        "        optimizer.zero_grad()\n",
        "        #a = flatten(x_batch)\n",
        "        #b = x_batch.view(x_batch.size(0), -1)\n",
        "\n",
        "        reconstruction, mu, logsigma = autoencoder(x_batch.view(x_batch.size(0), -1).to(device))\n",
        "        reconstruction = reconstruction.view(-1, 1, 28, 28)\n",
        "        loss = criterion(x_batch.to(device).float(), mu, logsigma, reconstruction)\n",
        "        loss.backward()\n",
        "        optimizer.step()\n",
        "        train_losses_per_epoch.append(loss.item())\n",
        "\n",
        "    train_losses.append(np.mean(train_losses_per_epoch))\n",
        "\n",
        "    autoencoder.eval()\n",
        "    val_losses_per_epoch = []\n",
        "    with torch.no_grad():\n",
        "        for batch in val_dl:\n",
        "          x_batch, y_batch = batch\n",
        "          reconstruction, mu, logsigma = autoencoder(x_batch.view(x_batch.size(0), -1).to(device))\n",
        "          #print(reconstruction.shape)\n",
        "\n",
        "          reconstruction = reconstruction.view(-1, 1, 28, 28)\n",
        "          loss = criterion(x_batch.to(device).float(), mu, logsigma, reconstruction)\n",
        "          val_losses_per_epoch.append(loss.item())\n",
        "\n",
        "    val_losses.append(np.mean(val_losses_per_epoch))\n",
        "\n",
        "  return train_losses,val_losses \n"
      ],
      "metadata": {
        "id": "gqyXyegklMLw"
      },
      "execution_count": 7,
      "outputs": []
    },
    {
      "cell_type": "code",
      "source": [
        "epochs = 2 #50\n",
        "#output with shape [1, 28, 28] doesn't match the broadcast shape [3, 28, 28]\n",
        "train_losses,val_losses = fit(epochs, autoencoder, criterion, optimizer, trainloader, testloader)"
      ],
      "metadata": {
        "colab": {
          "base_uri": "https://localhost:8080/",
          "height": 101,
          "referenced_widgets": [
            "9890e0f82e774120a6d6eebdd7587aee",
            "7612ce7057264939b8d27841649ef1c0",
            "8377de3269f14b3fa2da6b91ef68b7b7",
            "c0f2b6a2301f43128e7c83787b454c87",
            "3428bf1e2b8e4b64b7ba6b01a64bdd66",
            "eee5206832314373807f0a713a4ffe2a",
            "32da6d037ee041cea70ff6300bc4d943",
            "69121468f6024ad79fe1a2bca68cd545",
            "bb94efc1422c4cce95571c76ce608d50",
            "8e5cfbc574c64130816adc03de43ce0d",
            "97d42532b9434c43a2b9c1dddd841a30"
          ]
        },
        "id": "3JBnp5x5ms2C",
        "outputId": "e12aa2bb-965f-4347-c555-4487e6b7cb14"
      },
      "execution_count": 8,
      "outputs": [
        {
          "output_type": "stream",
          "name": "stderr",
          "text": [
            "<ipython-input-7-cb1b968579b8>:12: TqdmDeprecationWarning: This function will be removed in tqdm==5.0.0\n",
            "Please use `tqdm.notebook.tqdm` instead of `tqdm.tqdm_notebook`\n",
            "  for epoch in tqdm_notebook(range(epochs)):\n"
          ]
        },
        {
          "output_type": "display_data",
          "data": {
            "text/plain": [
              "  0%|          | 0/2 [00:00<?, ?it/s]"
            ],
            "application/vnd.jupyter.widget-view+json": {
              "version_major": 2,
              "version_minor": 0,
              "model_id": "9890e0f82e774120a6d6eebdd7587aee"
            }
          },
          "metadata": {}
        }
      ]
    },
    {
      "cell_type": "code",
      "source": [
        "\n",
        "from matplotlib import pyplot as plt\n",
        "plt.figure(figsize=(12,9))\n",
        "plt.subplot(2,1,1)\n",
        "plt.xlabel('epoch')\n",
        "plt.plot(train_losses, label='train losses (mean loss for each epoch)')\n",
        "plt.plot(val_losses, label='val losses')\n",
        "plt.legend()\n"
      ],
      "metadata": {
        "colab": {
          "base_uri": "https://localhost:8080/",
          "height": 52
        },
        "id": "Z2mfO1TjXZ6T",
        "outputId": "f604908d-a89c-4abc-b707-ceafcc17df95"
      },
      "execution_count": 56,
      "outputs": [
        {
          "output_type": "execute_result",
          "data": {
            "text/plain": [
              "\"\\nfrom matplotlib import pyplot as plt\\nplt.figure(figsize=(12,9))\\nplt.subplot(2,1,1)\\nplt.xlabel('epoch')\\nplt.plot(train_losses, label='train losses (mean loss for each epoch)')\\nplt.plot(val_losses, label='val losses')\\nplt.legend()\\n\""
            ],
            "application/vnd.google.colaboratory.intrinsic+json": {
              "type": "string"
            }
          },
          "metadata": {},
          "execution_count": 56
        }
      ]
    },
    {
      "cell_type": "code",
      "source": [
        "len(trainloader)"
      ],
      "metadata": {
        "colab": {
          "base_uri": "https://localhost:8080/"
        },
        "id": "Ssf7hjY4vvDG",
        "outputId": "3265a147-4d94-4468-c32c-b91ec26d6c84"
      },
      "execution_count": 20,
      "outputs": [
        {
          "output_type": "execute_result",
          "data": {
            "text/plain": [
              "15000"
            ]
          },
          "metadata": {},
          "execution_count": 20
        }
      ]
    },
    {
      "cell_type": "code",
      "source": [
        "# 4. Let's see recovered image\n",
        "autoencoder.eval()\n",
        "with torch.no_grad():\n",
        "    for batch in testloader:\n",
        "      x_batch, y_batch = batch\n",
        "      #sample = x_batch[0]\n",
        "      #print(sample.shape)\n",
        "      reconstruction, mu, logsigma = autoencoder(x_batch.view(x_batch.size(0), -1).to(device))\n",
        "      reconstruction = reconstruction.view(-1, 28, 28, 1)\n",
        "      x_batch = x_batch.view(-1, 28, 28, 1)\n",
        "      result = reconstruction.cpu().detach().numpy()\n",
        "      ground_truth = x_batch.numpy()\n",
        "      break"
      ],
      "metadata": {
        "id": "KdXNNhl8nPmP"
      },
      "execution_count": 9,
      "outputs": []
    },
    {
      "cell_type": "code",
      "source": [
        "import matplotlib.pyplot as plt\n",
        "\n",
        "plt.figure(figsize=(8, 20))\n",
        "for i, (gt, res) in enumerate(zip(ground_truth[:5], result[:5])):\n",
        "  plt.subplot(5, 2, 2*i+1)\n",
        "  plt.imshow(gt)\n",
        "  plt.subplot(5, 2, 2*i+2)\n",
        "  plt.imshow(res)"
      ],
      "metadata": {
        "colab": {
          "base_uri": "https://localhost:8080/",
          "height": 1000
        },
        "id": "uCxZe9GNd4Y6",
        "outputId": "1232ba33-05fa-4d6f-a099-792142538d27"
      },
      "execution_count": 10,
      "outputs": [
        {
          "output_type": "display_data",
          "data": {
            "text/plain": [
              "<Figure size 800x2000 with 8 Axes>"
            ],
            "image/png": "[encoded data removed]"
          },
          "metadata": {}
        }
      ]
    },
    {
      "cell_type": "code",
      "source": [],
      "metadata": {
        "id": "Z4ev10bFegcC"
      },
      "execution_count": null,
      "outputs": []
    }
  ]
}